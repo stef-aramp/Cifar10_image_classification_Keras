{
 "cells": [
  {
   "cell_type": "markdown",
   "metadata": {},
   "source": [
    "# cifar10 - Image Classification with CNN\n",
    "\n",
    "## First things... first (intro)\n",
    "According to WikiPedia...\n",
    "\n",
    "(Signalling is mine)\n",
    "\n",
    "*The **CIFAR-10 dataset** (CIFAR stands for Canadian Institute For Advanced Research) is a collection of images that are commonly used to train machine learning and computer vision algorithms. It is one of the most widely used datasets for **machine learning research**. The CIFAR-10 dataset contains 60,000 32x32 color images in **10 different classes**.The 10 different classes represent airplanes, cars, birds, cats, deer, dogs, frogs, horses, ships, and trucks. There are 6,000 images of each class.*\n",
    "\n",
    "\n",
    "There a lot of NN architectures out there, reaching out a (really) good performance. You can find [HERE](http://rodrigob.github.io/are_we_there_yet/build/classification_datasets_results.html#43494641522d3130) useful papers that lead to great results for several datasets. Famous NN architectures like ResNet, AlexNet etc. have been applied to score a great accuracy.\n",
    "\n",
    "I could say that my CNN model is kinda shallow, but having 4GB Ram and a 2,26 GHz Intel Core 2 Duo processor, the only thing you can do is...just be patient :)\n",
    "\n",
    "\n",
    "### Why CNN?\n",
    "\n",
    "It's not in the scope of this project to expalin in depth how a Convolutional Neural Network works! There is bunch of articles, tutorials and papers to read! However, I will post some sources where I found useful information.\n",
    "\n",
    "If a MOOC is too big (or boring) for you to understand the intuition of CNNs, here is a really great source, with notes of Stanford Univerity, from an expert. \n",
    "\n",
    "-> [Notes](http://cs231n.github.io/convolutional-networks/)\n",
    "\n",
    "from the author\n",
    "\n",
    "-> [Andrej Karpathy](http://karpathy.github.io)\n",
    "\n",
    "\n",
    "Otherwise, towardsdatascience.com, kdnuggets.com and analyticsvidhya.com provide plenty of info and knowledge! Good Read!"
   ]
  },
  {
   "cell_type": "markdown",
   "metadata": {},
   "source": [
    "## Body\n",
    "\n",
    "My idea is to write down the code while I will explain what I am doing (sic)\n",
    "\n",
    "I did choose to work with keras(2.1.2) using tensorflow(1.5.0) backend. Here is [keras documentation](https://keras.io). The interesting fact is that **keras** can work **alongside sci-kit learn** in order to preprocess data, evaluate and tune our NN. So this makes our life easier!"
   ]
  },
  {
   "cell_type": "code",
   "execution_count": 1,
   "metadata": {
    "collapsed": true
   },
   "outputs": [],
   "source": [
    "# import basic stuff\n",
    "\n",
    "import pandas as pd\n",
    "import numpy as np\n",
    "import matplotlib.pyplot as plt"
   ]
  },
  {
   "cell_type": "code",
   "execution_count": 2,
   "metadata": {},
   "outputs": [
    {
     "name": "stderr",
     "output_type": "stream",
     "text": [
      "/Users/stephanosarampatzes/anaconda3/lib/python3.6/site-packages/h5py/__init__.py:34: FutureWarning: Conversion of the second argument of issubdtype from `float` to `np.floating` is deprecated. In future, it will be treated as `np.float64 == np.dtype(float).type`.\n",
      "  from ._conv import register_converters as _register_converters\n",
      "Using TensorFlow backend.\n"
     ]
    }
   ],
   "source": [
    "# import keras\n",
    "\n",
    "import keras\n",
    "import keras.backend as K"
   ]
  },
  {
   "cell_type": "code",
   "execution_count": 3,
   "metadata": {
    "collapsed": true
   },
   "outputs": [],
   "source": [
    "# import data\n",
    "\n",
    "from keras.datasets import cifar10"
   ]
  },
  {
   "cell_type": "code",
   "execution_count": 4,
   "metadata": {
    "collapsed": true
   },
   "outputs": [],
   "source": [
    "# The Sequential model is a linear stack of layers\n",
    "from keras.models import Sequential\n",
    "\n",
    "# import keras layers\n",
    "from keras.layers import (Dense, Activation, Conv2D, MaxPooling2D, Dropout, Flatten, BatchNormalization)\n",
    "\n",
    "# import optimizer\n",
    "from keras.optimizers import Adam\n",
    "\n",
    "# some utils for encoding\n",
    "from keras.utils import to_categorical\n",
    "\n",
    "# stop training when a monitored quantity has stopped improving.\n",
    "from keras.callbacks import EarlyStopping\n"
   ]
  },
  {
   "cell_type": "markdown",
   "metadata": {},
   "source": [
    "### till here\n",
    "- CNN:\n",
    "\n",
    "If we are looking for some pattern or some feature in our data, but don't know where exactly might be in our data, a CNN can scan our data and find those patterns for us, wherever they might be.\n",
    "\n",
    "CNN is just taking a source image (or source data of any sort), breaking it up into little chunks called convolutions, and then we assemble those and look for patterns at increasingly higher complexities, at higher levels, in our NN.\n",
    "\n",
    "- Sequential model: We can create a Sequential model by passing a list of layer instances to the constructor. Moreover, the model needs to know what input shape it should expect. For this reason, the first layer in a Sequential model (and only the first, because following layers can do automatic shape inference) needs to receive information about its input shape.\n",
    "\n",
    "- First layer: Conv2D / This layer creates a convolution kernel that is convolved with the layer input to produce a tensor of outputs.\n",
    "(check documentation for its parameters)\n",
    "\n",
    "- MaxPooling2D : Its function is to progressively reduce the spatial size of the representation to reduce the amount of parameters and computation in the network, and hence to also control overfitting.\n",
    "\n",
    "- Dropout: Randomly \"killing\" some of the nodes for 1 training iteration (epoch).\n",
    "\n",
    "- Batch Normalization: Regularization technique. Normalize the activations of the previous layer at each batch.\n",
    "\n",
    "- Flatten: Flattens the input. Does not affect the batch size. (converts a matrix to a vector)"
   ]
  },
  {
   "cell_type": "markdown",
   "metadata": {},
   "source": [
    "### Images / Data\n",
    "The dataset is divided into five training batches and one test batch, each with 10000 images. The test batch contains exactly 1000 randomly-selected images from each class. The training batches contain the remaining images in random order, but some training batches may contain more images from one class than another. Between them, the training batches contain exactly 5000 images from each class. "
   ]
  },
  {
   "cell_type": "markdown",
   "metadata": {
    "collapsed": true
   },
   "source": [
    "<img src=\"cifar10_plot.png\"/>"
   ]
  },
  {
   "cell_type": "code",
   "execution_count": 5,
   "metadata": {
    "collapsed": true
   },
   "outputs": [],
   "source": [
    "# load train/test data\n",
    "(x_train, y_train), (x_test, y_test) = cifar10.load_data()"
   ]
  },
  {
   "cell_type": "code",
   "execution_count": 6,
   "metadata": {
    "scrolled": false
   },
   "outputs": [
    {
     "data": {
      "text/plain": [
       "(50000, 32, 32, 3)"
      ]
     },
     "execution_count": 6,
     "metadata": {},
     "output_type": "execute_result"
    }
   ],
   "source": [
    "x_train.shape"
   ]
  },
  {
   "cell_type": "markdown",
   "metadata": {},
   "source": [
    "50.000 , 32x32 pixels, colored images (3 is for RGB)"
   ]
  },
  {
   "cell_type": "code",
   "execution_count": 7,
   "metadata": {},
   "outputs": [
    {
     "data": {
      "text/plain": [
       "(10000, 32, 32, 3)"
      ]
     },
     "execution_count": 7,
     "metadata": {},
     "output_type": "execute_result"
    }
   ],
   "source": [
    "x_test.shape"
   ]
  },
  {
   "cell_type": "markdown",
   "metadata": {},
   "source": [
    "**Reshape Colored Images**\n",
    "\n",
    "RGB (Red, Green, Blue) are 8 bit each. The range for each individual colour is 0-255 (as 2^8 = 256 possibilities). The combination range is 255x255x255.\n",
    "\n",
    "By dividing by 255, the 0-255 range can be described with a **0.0 - 1.0 range** where 0.0 means 0 and 1.0 means 255."
   ]
  },
  {
   "cell_type": "code",
   "execution_count": 8,
   "metadata": {},
   "outputs": [
    {
     "data": {
      "text/plain": [
       "array([16, 20, 20], dtype=uint8)"
      ]
     },
     "execution_count": 8,
     "metadata": {},
     "output_type": "execute_result"
    }
   ],
   "source": [
    "# few pixels\n",
    "x_train[0,1,0]"
   ]
  },
  {
   "cell_type": "code",
   "execution_count": 9,
   "metadata": {
    "collapsed": true
   },
   "outputs": [],
   "source": [
    "# input normalization / step by step\n",
    "\n",
    "x_train = x_train.reshape((-1,32,32,3))\n",
    "x_test = x_test.reshape((-1,32,32,3))\n",
    "\n",
    "x_train = x_train.astype('float32')\n",
    "x_test = x_test.astype('float32')\n",
    "\n",
    "x_train = x_train / 255.0\n",
    "x_test = x_test / 255.0"
   ]
  },
  {
   "cell_type": "code",
   "execution_count": 10,
   "metadata": {},
   "outputs": [
    {
     "data": {
      "text/plain": [
       "array([0.0627451 , 0.07843138, 0.07843138], dtype=float32)"
      ]
     },
     "execution_count": 10,
     "metadata": {},
     "output_type": "execute_result"
    }
   ],
   "source": [
    "x_train[0,1,0]"
   ]
  },
  {
   "cell_type": "code",
   "execution_count": 11,
   "metadata": {},
   "outputs": [
    {
     "data": {
      "text/plain": [
       "numpy.float32"
      ]
     },
     "execution_count": 11,
     "metadata": {},
     "output_type": "execute_result"
    }
   ],
   "source": [
    "type(x_train[0,1,0,1])"
   ]
  },
  {
   "cell_type": "code",
   "execution_count": 12,
   "metadata": {},
   "outputs": [
    {
     "data": {
      "text/plain": [
       "(50000, 1)"
      ]
     },
     "execution_count": 12,
     "metadata": {},
     "output_type": "execute_result"
    }
   ],
   "source": [
    "y_train.shape"
   ]
  },
  {
   "cell_type": "code",
   "execution_count": 13,
   "metadata": {},
   "outputs": [
    {
     "name": "stdout",
     "output_type": "stream",
     "text": [
      "[6]\n",
      "[9]\n",
      "[9]\n",
      "[4]\n",
      "[1]\n"
     ]
    }
   ],
   "source": [
    "for i in range(0,5):\n",
    "    print(y_train[i])"
   ]
  },
  {
   "cell_type": "markdown",
   "metadata": {},
   "source": [
    "**keras.utils.to_categorical(y, num_classes)**  is an **one_hot_encoder**.\n",
    "\n",
    "Converts a class vector (integers) to binary class matrix.\n",
    "\n",
    "parameters:\n",
    "\n",
    "y: class vector to be converted into a matrix (integers from 0 to num_classes)\n",
    "\n",
    "num_classes: total number of classes. (In our case we got 10 classes)"
   ]
  },
  {
   "cell_type": "code",
   "execution_count": 14,
   "metadata": {
    "collapsed": true
   },
   "outputs": [],
   "source": [
    "# encoding labels\n",
    "y_train = to_categorical(y_train, 10)\n",
    "y_test = to_categorical(y_test, 10)"
   ]
  },
  {
   "cell_type": "code",
   "execution_count": 15,
   "metadata": {},
   "outputs": [
    {
     "data": {
      "text/plain": [
       "array([0., 0., 0., 0., 0., 0., 0., 0., 0., 1.])"
      ]
     },
     "execution_count": 15,
     "metadata": {},
     "output_type": "execute_result"
    }
   ],
   "source": [
    "y_train[1]"
   ]
  },
  {
   "cell_type": "code",
   "execution_count": 16,
   "metadata": {
    "scrolled": true
   },
   "outputs": [
    {
     "name": "stdout",
     "output_type": "stream",
     "text": [
      "WARNING:tensorflow:From /Users/stephanosarampatzes/anaconda3/lib/python3.6/site-packages/keras/backend/tensorflow_backend.py:1264: calling reduce_prod (from tensorflow.python.ops.math_ops) with keep_dims is deprecated and will be removed in a future version.\n",
      "Instructions for updating:\n",
      "keep_dims is deprecated, use keepdims instead\n"
     ]
    }
   ],
   "source": [
    "# constructor\n",
    "model = Sequential()\n",
    "\n",
    "# passing a list of layer instances to the constructor\n",
    "# input layer\n",
    "model.add(Conv2D(32, kernel_size = (3,3), padding = 'same', activation = 'relu', input_shape = (32,32,3)))\n",
    "model.add(BatchNormalization())\n",
    "model.add(Conv2D(32, (3,3), activation = 'relu'))\n",
    "model.add(MaxPooling2D(pool_size = (2,2)))\n",
    "\n",
    "model.add(Dropout(0.3))\n",
    "\n",
    "# hidden layers\n",
    "model.add(Conv2D(64, (3,3), padding = 'same', activation = 'relu'))\n",
    "model.add(BatchNormalization())\n",
    "model.add(Conv2D(64, (3,3), activation = 'relu'))\n",
    "model.add(MaxPooling2D(pool_size = (2,2)))\n",
    "\n",
    "model.add(Dropout(0.3))\n",
    "\n",
    "model.add(Conv2D(128, (3,3), padding = 'same', activation = 'relu'))\n",
    "model.add(BatchNormalization())\n",
    "model.add(Conv2D(128, (3,3), activation = 'relu'))\n",
    "model.add(MaxPooling2D(pool_size = (2,2)))\n",
    "\n",
    "model.add(Dropout(0.3))\n",
    "\n",
    "model.add(Flatten())\n",
    "\n",
    "# fully connected layers\n",
    "model.add(Dense(256, activation = 'relu'))\n",
    "model.add(BatchNormalization())\n",
    "\n",
    "model.add(Dropout(0.3))\n",
    "\n",
    "model.add(Dense(512, activation = 'relu'))\n",
    "model.add(BatchNormalization())\n",
    "\n",
    "model.add(Dropout(0.3))\n",
    "# output layer\n",
    "model.add(Dense(10, activation = 'softmax'))\n"
   ]
  },
  {
   "cell_type": "markdown",
   "metadata": {},
   "source": [
    "A few words about architecture and argumets. We always need an input and an output layer no matter what. The intermediate layers, called hidden layers, can be as much as we want. The bigger the number of hidden layers, the deeper the network is. I use [ReLU](https://en.wikipedia.org/wiki/Rectifier_(neural_networks) as an activation funtion (for non-linear transformations) that decides to fire the neuron or not. Kerner_size is the size of \"window-filter\" (in pixels) that I want to scan the image looikng for patterns. Padding layer is padding the input volume with zeros in such way that the Conv layer does not alter the spatial dimensions of the input. MaxPool is an operation for spatial data. It picks the max value of every filter and puts it in a new matrix. Pool size has two integer factors by which to downscale the image (vertical, horizotial). Finaly, ['softmax'](https://en.wikipedia.org/wiki/Softmax_function) converts each of the final weights that come out of our NN into a probability.\n",
    "\n",
    "Read \"Layer Sizing Patterns\" paragraph from Andrej's Karpathy notes.\n",
    "\n",
    "\n",
    "**Attention**\n",
    "\n",
    "*Batch Normalization (BN) before or after Activation layer?* Sergey Ioffe and Christian Szegedy, in their paper [\"Batch Normalization: Accelerating Deep Network Training by Reducing Internal Covariate Shift\"](https://arxiv.org/abs/1502.03167) suggest to use BN before the activation layer (relu). But there is a conflict on the web about that. According to keras documentation and keras-team github forum there is a suggestion to use BN after activation functions (post from Francois Chollet, author of keras).\n",
    "\n",
    "\n"
   ]
  },
  {
   "cell_type": "markdown",
   "metadata": {},
   "source": [
    "**The most important hyper-parameter for our model, to converge to an optimal minima, is the learning rate**. What is leanring rate? Is a hyper-parameter that controls how much we are adjusting the weights of our network with respect the loss gradient. I have to spend a lot of lines to explain how a good learning rate helps our model to be trained and achieve a goog accuracy. Fortunately, there are a lot of great articles doing that for me. Sharing is caring! Check the links below!\n",
    "\n",
    "Back to Learning Rate. I chose to work with **Cyclic Learning Rate**. Instead of monotonically decreasing the learning rate, this method lets the learning rate cyclically vary between reasonable boundary values. Training with cyclical learning rates instead of fixed values achieves improved classification accuracy without a need to tune and often in fewer iterations.\n",
    "\n",
    "I found an interesting github repo from which I borrowed the CLR module \"clr_callback.py\"\n",
    "_________________\n",
    "(Cyclic) Learning Rate links:\n",
    "1. https://arxiv.org/abs/1506.01186\n",
    "2. https://github.com/bckenstler/CLR\n",
    "3. https://towardsdatascience.com/understanding-learning-rates-and-how-it-improves-performance-in-deep-learning-d0d4059c1c10\n",
    "4. https://techburst.io/improving-the-way-we-work-with-learning-rate-5e99554f163b"
   ]
  },
  {
   "cell_type": "code",
   "execution_count": 17,
   "metadata": {},
   "outputs": [
    {
     "name": "stdout",
     "output_type": "stream",
     "text": [
      "WARNING:tensorflow:From /Users/stephanosarampatzes/anaconda3/lib/python3.6/site-packages/keras/backend/tensorflow_backend.py:2885: calling reduce_sum (from tensorflow.python.ops.math_ops) with keep_dims is deprecated and will be removed in a future version.\n",
      "Instructions for updating:\n",
      "keep_dims is deprecated, use keepdims instead\n",
      "WARNING:tensorflow:From /Users/stephanosarampatzes/anaconda3/lib/python3.6/site-packages/keras/backend/tensorflow_backend.py:1349: calling reduce_mean (from tensorflow.python.ops.math_ops) with keep_dims is deprecated and will be removed in a future version.\n",
      "Instructions for updating:\n",
      "keep_dims is deprecated, use keepdims instead\n"
     ]
    }
   ],
   "source": [
    "# configure the model for training\n",
    "model.compile(loss = 'categorical_crossentropy',\n",
    "              optimizer = Adam(),\n",
    "              metrics = ['accuracy'])"
   ]
  },
  {
   "cell_type": "code",
   "execution_count": 18,
   "metadata": {
    "collapsed": true
   },
   "outputs": [],
   "source": [
    "from clr_callback import *"
   ]
  },
  {
   "cell_type": "code",
   "execution_count": 19,
   "metadata": {
    "collapsed": true
   },
   "outputs": [],
   "source": [
    "# default : base_lr = 0.001, max_lr = 0.006, step_size = 2000\n",
    "\n",
    "clr = CyclicLR(mode = 'triangular2')"
   ]
  },
  {
   "cell_type": "code",
   "execution_count": null,
   "metadata": {
    "collapsed": true
   },
   "outputs": [],
   "source": []
  },
  {
   "cell_type": "code",
   "execution_count": 20,
   "metadata": {},
   "outputs": [
    {
     "name": "stdout",
     "output_type": "stream",
     "text": [
      "Train on 50000 samples, validate on 10000 samples\n",
      "Epoch 1/20\n",
      " - 1252s - loss: 1.7718 - acc: 0.3878 - val_loss: 1.5367 - val_acc: 0.5003\n",
      "Epoch 2/20\n",
      " - 1264s - loss: 1.2402 - acc: 0.5643 - val_loss: 1.2818 - val_acc: 0.5510\n",
      "Epoch 3/20\n",
      " - 1275s - loss: 0.9751 - acc: 0.6589 - val_loss: 1.0153 - val_acc: 0.6458\n",
      "Epoch 4/20\n",
      " - 1273s - loss: 0.8027 - acc: 0.7228 - val_loss: 0.6669 - val_acc: 0.7705\n",
      "Epoch 5/20\n",
      " - 1269s - loss: 0.7254 - acc: 0.7497 - val_loss: 0.6728 - val_acc: 0.7678\n",
      "Epoch 6/20\n",
      " - 1260s - loss: 0.7555 - acc: 0.7413 - val_loss: 0.9141 - val_acc: 0.6953\n",
      "Epoch 7/20\n",
      " - 1253s - loss: 0.7164 - acc: 0.7542 - val_loss: 0.6962 - val_acc: 0.7601\n",
      "Epoch 8/20\n",
      " - 1254s - loss: 0.6146 - acc: 0.7873 - val_loss: 0.5482 - val_acc: 0.8094\n",
      "Epoch 9/20\n",
      " - 1281s - loss: 0.5603 - acc: 0.8078 - val_loss: 0.5623 - val_acc: 0.8090\n",
      "Epoch 10/20\n",
      " - 1255s - loss: 0.5703 - acc: 0.8041 - val_loss: 0.5939 - val_acc: 0.7964\n",
      "Epoch 11/20\n",
      " - 1254s - loss: 0.5587 - acc: 0.8071 - val_loss: 0.5396 - val_acc: 0.8116\n",
      "Epoch 12/20\n",
      " - 1277s - loss: 0.5024 - acc: 0.8277 - val_loss: 0.5162 - val_acc: 0.8276\n",
      "Epoch 13/20\n",
      " - 1253s - loss: 0.4671 - acc: 0.8394 - val_loss: 0.5274 - val_acc: 0.8233\n",
      "Epoch 14/20\n",
      " - 1253s - loss: 0.4659 - acc: 0.8386 - val_loss: 0.6327 - val_acc: 0.7912\n",
      "Epoch 15/20\n",
      " - 1254s - loss: 0.4621 - acc: 0.8412 - val_loss: 0.6237 - val_acc: 0.7936\n",
      "Epoch 16/20\n",
      " - 1250s - loss: 0.4296 - acc: 0.8515 - val_loss: 0.5102 - val_acc: 0.8256\n",
      "Epoch 17/20\n",
      " - 1253s - loss: 0.4088 - acc: 0.8589 - val_loss: 0.4909 - val_acc: 0.8394\n",
      "Epoch 18/20\n",
      " - 1253s - loss: 0.4046 - acc: 0.8606 - val_loss: 0.4833 - val_acc: 0.8418\n",
      "Epoch 19/20\n",
      " - 1253s - loss: 0.3992 - acc: 0.8622 - val_loss: 0.4909 - val_acc: 0.8380\n",
      "Epoch 20/20\n",
      " - 1255s - loss: 0.3816 - acc: 0.8684 - val_loss: 0.4900 - val_acc: 0.8351\n"
     ]
    }
   ],
   "source": [
    "results = model.fit(x_train, y_train,\n",
    "          batch_size = 50,\n",
    "          verbose = 2,\n",
    "          epochs = 20,\n",
    "          validation_split = 0.2,\n",
    "          validation_data = (x_test, y_test),\n",
    "          shuffle = True,\n",
    "          callbacks=[EarlyStopping(monitor='val_loss', patience = 5), clr]\n",
    "          )\n"
   ]
  },
  {
   "cell_type": "code",
   "execution_count": 21,
   "metadata": {},
   "outputs": [
    {
     "name": "stdout",
     "output_type": "stream",
     "text": [
      "50000/50000 [==============================] - 400s 8ms/step\n",
      "Train acc (%):  93.1239999961853\n",
      "10000/10000 [==============================] - 78s 8ms/step\n",
      "Test acc (%):  83.50999999999999\n"
     ]
    }
   ],
   "source": [
    "# evaluate the model\n",
    "print(\"Train acc (%): \", model.evaluate(x_train, y_train, batch_size=128)[1]*100)\n",
    "print(\"Test acc (%): \", model.evaluate(x_test, y_test, batch_size=128)[1]*100)\n"
   ]
  },
  {
   "cell_type": "code",
   "execution_count": 22,
   "metadata": {},
   "outputs": [
    {
     "name": "stdout",
     "output_type": "stream",
     "text": [
      "50000/50000 [==============================] - 387s 8ms/step\n",
      "Train error (%):  6.876000003814696\n",
      "10000/10000 [==============================] - 78s 8ms/step\n",
      "Test error (%):  16.49000000000001\n"
     ]
    }
   ],
   "source": [
    "print(\"Train error (%): \", 100  - model.evaluate(x_train, y_train, batch_size=128)[1]*100)\n",
    "print(\"Test error (%): \", 100 - model.evaluate(x_test, y_test, batch_size=128)[1]*100)\n"
   ]
  },
  {
   "cell_type": "code",
   "execution_count": null,
   "metadata": {
    "collapsed": true
   },
   "outputs": [],
   "source": []
  },
  {
   "cell_type": "code",
   "execution_count": 23,
   "metadata": {
    "collapsed": true
   },
   "outputs": [],
   "source": [
    "from sklearn.metrics import classification_report\n",
    "y_pred = model.predict(x_test)\n"
   ]
  },
  {
   "cell_type": "code",
   "execution_count": 24,
   "metadata": {
    "collapsed": true
   },
   "outputs": [],
   "source": [
    "y_test_class = np.argmax(y_test, axis=1)\n",
    "y_pred_class = np.argmax(y_pred, axis=1)"
   ]
  },
  {
   "cell_type": "code",
   "execution_count": 25,
   "metadata": {},
   "outputs": [
    {
     "name": "stdout",
     "output_type": "stream",
     "text": [
      "             precision    recall  f1-score   support\n",
      "\n",
      "          0       0.88      0.81      0.84      1000\n",
      "          1       0.94      0.91      0.92      1000\n",
      "          2       0.82      0.71      0.76      1000\n",
      "          3       0.81      0.58      0.68      1000\n",
      "          4       0.74      0.88      0.80      1000\n",
      "          5       0.76      0.81      0.78      1000\n",
      "          6       0.76      0.95      0.84      1000\n",
      "          7       0.89      0.87      0.88      1000\n",
      "          8       0.88      0.93      0.91      1000\n",
      "          9       0.91      0.91      0.91      1000\n",
      "\n",
      "avg / total       0.84      0.84      0.83     10000\n",
      "\n"
     ]
    }
   ],
   "source": [
    "print(classification_report(y_test_class, y_pred_class))"
   ]
  },
  {
   "cell_type": "code",
   "execution_count": 26,
   "metadata": {},
   "outputs": [
    {
     "name": "stdout",
     "output_type": "stream",
     "text": [
      "10000/10000 [==============================] - 69s 7ms/step\n"
     ]
    }
   ],
   "source": [
    "# another way\n",
    "pred_classes = model.predict_classes(x_test, verbose=1)"
   ]
  },
  {
   "cell_type": "code",
   "execution_count": 27,
   "metadata": {},
   "outputs": [
    {
     "name": "stdout",
     "output_type": "stream",
     "text": [
      "             precision    recall  f1-score   support\n",
      "\n",
      "          0       0.88      0.81      0.84      1000\n",
      "          1       0.94      0.91      0.92      1000\n",
      "          2       0.82      0.71      0.76      1000\n",
      "          3       0.81      0.58      0.68      1000\n",
      "          4       0.74      0.88      0.80      1000\n",
      "          5       0.76      0.81      0.78      1000\n",
      "          6       0.76      0.95      0.84      1000\n",
      "          7       0.89      0.87      0.88      1000\n",
      "          8       0.88      0.93      0.91      1000\n",
      "          9       0.91      0.91      0.91      1000\n",
      "\n",
      "avg / total       0.84      0.84      0.83     10000\n",
      "\n"
     ]
    }
   ],
   "source": [
    "print(classification_report(y_test_class, pred_classes))"
   ]
  },
  {
   "cell_type": "markdown",
   "metadata": {},
   "source": [
    "Few thougts about results and metrics. \"model.evaluate()\" gives a different accuracy on training data from the one in training process. Evaluation gives **93.12%** accuracy but the latest accuracy score of training process is 86.84%. However, test accuracy score is stable and equal to **83.5%**. An (interesting?) explanation about this is that it's due to the dropout layers. During the training phase neurons are dropped. In contrast during the prediction all neurons remain in the network structure. So it's quite likely that the results will be different.You can see it directly from the results for the validation data. They are equal, because both results are generated in the same way!\n",
    "\n",
    "### Error Analysis\n",
    "\n",
    "Two different metrics, generate two different scores (93.1% & 83.5% accuracy). What's in the background of these numbers? \n",
    "\n",
    "- Case A:  \n",
    "93.1% accuracy on training set. This means 6.9% **train error**. Furthermore, it means we got 6.9% **Bias**. 16.5% error on test set means that we got **Variance** equal to 9,6 % (Test error - Bias (%)). We conclude that model kinda overfits data. It cannot generalize well on test set. Low Biaw / High Variance.\n",
    "\n",
    "- Case B:\n",
    "86.8% accuracy on training set. This means 13.2% **train error** and at the same time 13.2% **Bias**. Error on test set remains stable and equal to 16.5%. **Variance** equal to 3.2% (Test error - Bias (%)). Now we got underfitting, because there is high bias and low variance.\n",
    "\n",
    "#### How to reduce Bias and Variance \n",
    "Bias-Variance trade-off\n",
    "\n",
    "- Increase the model size\n",
    "We can increase the number of neurons or hidden layers. Attention to variance, we have to use regularization techniques (L1, L2, Dropout).\n",
    "\n",
    "- Modify model architecture\n",
    "This technique can affect both bias and variance.\n",
    "\n",
    "- Add more training data\n",
    "...But cifar10 has a standard size of images...\n"
   ]
  },
  {
   "cell_type": "markdown",
   "metadata": {},
   "source": [
    "#### Some Plots"
   ]
  },
  {
   "cell_type": "code",
   "execution_count": 28,
   "metadata": {},
   "outputs": [
    {
     "data": {
      "image/png": "[encoded data removed]",
      "text/plain": [
       "<Figure size 432x288 with 1 Axes>"
      ]
     },
     "metadata": {},
     "output_type": "display_data"
    }
   ],
   "source": [
    "# loss\n",
    "plt.figure(1)\n",
    "plt.plot(results.history['loss'])\n",
    "plt.plot(results.history['val_loss'])\n",
    "plt.xlabel('epochs')\n",
    "plt.ylabel('loss')\n",
    "plt.legend(['train_loss', 'test_loss'])\n",
    "plt.show()"
   ]
  },
  {
   "cell_type": "code",
   "execution_count": 29,
   "metadata": {},
   "outputs": [
    {
     "data": {
      "image/png": "[encoded data removed]",
      "text/plain": [
       "<Figure size 432x288 with 1 Axes>"
      ]
     },
     "metadata": {},
     "output_type": "display_data"
    }
   ],
   "source": [
    "# accuracy\n",
    "plt.figure(2)\n",
    "plt.plot(results.history['acc'])\n",
    "plt.plot(results.history['val_acc'])\n",
    "plt.xlabel('epochs')\n",
    "plt.ylabel('loss')\n",
    "plt.legend(['train acc', ' acc'])\n",
    "plt.show()"
   ]
  },
  {
   "cell_type": "code",
   "execution_count": 30,
   "metadata": {},
   "outputs": [
    {
     "data": {
      "image/png": "[encoded data removed]",
      "text/plain": [
       "<Figure size 432x288 with 1 Axes>"
      ]
     },
     "metadata": {},
     "output_type": "display_data"
    }
   ],
   "source": [
    "# cyclic learning rates with stepsize 2000 irterations\n",
    "\n",
    "plt.plot(clr.history['iterations'], clr.history['lr'])\n",
    "plt.xlabel('iterations')\n",
    "plt.ylabel('learning rate')\n",
    "plt.title('CLR')\n",
    "plt.show()"
   ]
  },
  {
   "cell_type": "markdown",
   "metadata": {},
   "source": [
    "## Epilogue\n",
    "\n",
    "Due to constraints on hardware capabilities I could only run 20 epochs with a patinece of 5 ( it could be 3 as well). This took place about 8-9 hours. I would like to mention that If the number of epochs was bigger (eg. 150), results would definitely be better. At least we could have a better view of the model.\n",
    "\n",
    "Hope you had a good read, and had a chance to check links provided!"
   ]
  }
 ],
 "metadata": {
  "kernelspec": {
   "display_name": "Python 3",
   "language": "python",
   "name": "python3"
  },
  "language_info": {
   "codemirror_mode": {
    "name": "ipython",
    "version": 3
   },
   "file_extension": ".py",
   "mimetype": "text/x-python",
   "name": "python",
   "nbconvert_exporter": "python",
   "pygments_lexer": "ipython3",
   "version": "3.6.3"
  }
 },
 "nbformat": 4,
 "nbformat_minor": 2
}
